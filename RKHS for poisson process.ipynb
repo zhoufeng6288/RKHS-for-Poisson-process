{
 "cells": [
  {
   "cell_type": "code",
   "execution_count": 2,
   "metadata": {},
   "outputs": [],
   "source": [
    "import numpy as np\n",
    "import matplotlib.pyplot as plt\n",
    "from scipy import optimize\n",
    "from scipy.stats import expon\n",
    "from scipy.stats import uniform\n",
    "from scipy.stats import multivariate_normal\n",
    "from scipy.stats import norm\n",
    "import math\n",
    "from scipy.special import eval_hermite as hermite\n",
    "import pandas as pd"
   ]
  },
  {
   "cell_type": "markdown",
   "metadata": {},
   "source": [
    "## simulation"
   ]
  },
  {
   "cell_type": "code",
   "execution_count": 2,
   "metadata": {},
   "outputs": [],
   "source": [
    "def expo_quad_kernel(theta0,theta1,xn,xm):\n",
    "    return theta0*np.exp(-theta1/2*np.sum((xn - xm)**2))"
   ]
  },
  {
   "cell_type": "code",
   "execution_count": 3,
   "metadata": {},
   "outputs": [],
   "source": [
    "T=100"
   ]
  },
  {
   "cell_type": "code",
   "execution_count": 4,
   "metadata": {},
   "outputs": [],
   "source": [
    "xi=np.linspace(0+100/80/2,100-100/80/2,80)"
   ]
  },
  {
   "cell_type": "code",
   "execution_count": 5,
   "metadata": {},
   "outputs": [],
   "source": [
    "x=np.linspace(0,100,1000)"
   ]
  },
  {
   "cell_type": "code",
   "execution_count": 6,
   "metadata": {},
   "outputs": [],
   "source": [
    "f=np.zeros(1000)"
   ]
  },
  {
   "cell_type": "code",
   "execution_count": 7,
   "metadata": {},
   "outputs": [],
   "source": [
    "alpha=norm.rvs(0,1,len(xi))"
   ]
  },
  {
   "cell_type": "code",
   "execution_count": 8,
   "metadata": {},
   "outputs": [],
   "source": [
    "for i in range(len(f)):\n",
    "    for j in range(len(xi)):\n",
    "        f[i]+=alpha[j]*expo_quad_kernel(1,0.01,x[i],xi[j])"
   ]
  },
  {
   "cell_type": "code",
   "execution_count": 9,
   "metadata": {},
   "outputs": [],
   "source": [
    "intensity=0.1*f**2 ## a_=0.1"
   ]
  },
  {
   "cell_type": "code",
   "execution_count": 17,
   "metadata": {},
   "outputs": [
    {
     "data": {
      "image/png": "[encoded data removed]",
      "text/plain": [
       "<Figure size 360x216 with 1 Axes>"
      ]
     },
     "metadata": {
      "needs_background": "light"
     },
     "output_type": "display_data"
    }
   ],
   "source": [
    "plt.figure(1,figsize=(5,3))\n",
    "axs=plt.subplot(111)\n",
    "axs.plot(x,intensity,label='intensity')\n",
    "# plt.tick_params(labelsize=10)\n",
    "plt.legend()\n",
    "plt.show()"
   ]
  },
  {
   "cell_type": "code",
   "execution_count": 68,
   "metadata": {},
   "outputs": [],
   "source": [
    "def inhomo_simulation(measure,delta_t,measure_sup,T):\n",
    "    t=0\n",
    "    points_homo=[]\n",
    "    points_inhomo=[]\n",
    "    while(t<T):\n",
    "        points_homo.append(t)\n",
    "        r=expon.rvs(scale=1/measure_sup) #scale=1/lamda\n",
    "        t+=r\n",
    "        if t>=T: break\n",
    "        D=uniform.rvs(loc=0,scale=1)\n",
    "        if D*measure_sup<=measure[int(t/delta_t)]:\n",
    "            points_inhomo.append(t)\n",
    "    if points_inhomo[-1]>T:\n",
    "        del points_inhomo[-1]\n",
    "    del points_homo[0]\n",
    "    return points_inhomo"
   ]
  },
  {
   "cell_type": "code",
   "execution_count": 74,
   "metadata": {},
   "outputs": [],
   "source": [
    "points_inhomo=inhomo_simulation(intensity,0.1,max(intensity),T)"
   ]
  },
  {
   "cell_type": "code",
   "execution_count": 75,
   "metadata": {},
   "outputs": [
    {
     "data": {
      "text/plain": [
       "303"
      ]
     },
     "execution_count": 75,
     "metadata": {},
     "output_type": "execute_result"
    }
   ],
   "source": [
    "len(points_inhomo)"
   ]
  },
  {
   "cell_type": "code",
   "execution_count": 76,
   "metadata": {},
   "outputs": [
    {
     "data": {
      "image/png": "[encoded data removed]",
      "text/plain": [
       "<Figure size 360x216 with 1 Axes>"
      ]
     },
     "metadata": {
      "needs_background": "light"
     },
     "output_type": "display_data"
    }
   ],
   "source": [
    "plt.figure(1,figsize=(5,3))\n",
    "axs=plt.subplot(111)\n",
    "axs.plot(x,intensity,label='intensity')\n",
    "axs.plot(points_inhomo,np.zeros(len(points_inhomo)),linestyle='None', marker='|', color='g', markersize=10)\n",
    "plt.legend()\n",
    "plt.show()"
   ]
  },
  {
   "cell_type": "code",
   "execution_count": null,
   "metadata": {},
   "outputs": [],
   "source": []
  },
  {
   "cell_type": "code",
   "execution_count": null,
   "metadata": {},
   "outputs": [],
   "source": []
  },
  {
   "cell_type": "code",
   "execution_count": 296,
   "metadata": {},
   "outputs": [],
   "source": [
    "rawdata = pd.read_excel(\"./NYPD_Motor_Vehicle_Collisions.xlsx\")"
   ]
  },
  {
   "cell_type": "code",
   "execution_count": 297,
   "metadata": {},
   "outputs": [],
   "source": [
    "df=rawdata.loc[:,['DATE','TIME']]"
   ]
  },
  {
   "cell_type": "code",
   "execution_count": 298,
   "metadata": {},
   "outputs": [],
   "source": [
    "df['DATE']=pd.to_datetime(df['DATE'])"
   ]
  },
  {
   "cell_type": "code",
   "execution_count": 299,
   "metadata": {},
   "outputs": [],
   "source": [
    "training=[]"
   ]
  },
  {
   "cell_type": "code",
   "execution_count": 306,
   "metadata": {},
   "outputs": [],
   "source": [
    "start=np.datetime64('2017-10-09')       # June, July, August\n",
    "end=np.datetime64('2017-10-13')\n",
    "interval = pd.date_range(start, end)"
   ]
  },
  {
   "cell_type": "code",
   "execution_count": 307,
   "metadata": {
    "scrolled": true
   },
   "outputs": [
    {
     "name": "stderr",
     "output_type": "stream",
     "text": [
      "C:\\Users\\zho045\\AppData\\Local\\Continuum\\Anaconda3\\lib\\site-packages\\ipykernel_launcher.py:4: SettingWithCopyWarning: \n",
      "A value is trying to be set on a copy of a slice from a DataFrame.\n",
      "Try using .loc[row_indexer,col_indexer] = value instead\n",
      "\n",
      "See the caveats in the documentation: http://pandas.pydata.org/pandas-docs/stable/indexing.html#indexing-view-versus-copy\n",
      "  after removing the cwd from sys.path.\n",
      "C:\\Users\\zho045\\AppData\\Local\\Continuum\\Anaconda3\\lib\\site-packages\\ipykernel_launcher.py:6: SettingWithCopyWarning: \n",
      "A value is trying to be set on a copy of a slice from a DataFrame.\n",
      "Try using .loc[row_indexer,col_indexer] = value instead\n",
      "\n",
      "See the caveats in the documentation: http://pandas.pydata.org/pandas-docs/stable/indexing.html#indexing-view-versus-copy\n",
      "  \n"
     ]
    },
    {
     "ename": "ValueError",
     "evalue": "Cannot set a frame with no defined index and a value that cannot be converted to a Series",
     "output_type": "error",
     "traceback": [
      "\u001b[1;31m---------------------------------------------------------------------------\u001b[0m",
      "\u001b[1;31mValueError\u001b[0m                                Traceback (most recent call last)",
      "\u001b[1;32m~\\AppData\\Local\\Continuum\\Anaconda3\\lib\\site-packages\\pandas\\core\\frame.py\u001b[0m in \u001b[0;36m_ensure_valid_index\u001b[1;34m(self, value)\u001b[0m\n\u001b[0;32m   3172\u001b[0m             \u001b[1;32mtry\u001b[0m\u001b[1;33m:\u001b[0m\u001b[1;33m\u001b[0m\u001b[1;33m\u001b[0m\u001b[0m\n\u001b[1;32m-> 3173\u001b[1;33m                 \u001b[0mvalue\u001b[0m \u001b[1;33m=\u001b[0m \u001b[0mSeries\u001b[0m\u001b[1;33m(\u001b[0m\u001b[0mvalue\u001b[0m\u001b[1;33m)\u001b[0m\u001b[1;33m\u001b[0m\u001b[1;33m\u001b[0m\u001b[0m\n\u001b[0m\u001b[0;32m   3174\u001b[0m             \u001b[1;32mexcept\u001b[0m\u001b[1;33m:\u001b[0m\u001b[1;33m\u001b[0m\u001b[1;33m\u001b[0m\u001b[0m\n",
      "\u001b[1;32m~\\AppData\\Local\\Continuum\\Anaconda3\\lib\\site-packages\\pandas\\core\\series.py\u001b[0m in \u001b[0;36m__init__\u001b[1;34m(self, data, index, dtype, name, copy, fastpath)\u001b[0m\n\u001b[0;32m    276\u001b[0m \u001b[1;33m\u001b[0m\u001b[0m\n\u001b[1;32m--> 277\u001b[1;33m                 \u001b[0mdata\u001b[0m \u001b[1;33m=\u001b[0m \u001b[0mSingleBlockManager\u001b[0m\u001b[1;33m(\u001b[0m\u001b[0mdata\u001b[0m\u001b[1;33m,\u001b[0m \u001b[0mindex\u001b[0m\u001b[1;33m,\u001b[0m \u001b[0mfastpath\u001b[0m\u001b[1;33m=\u001b[0m\u001b[1;32mTrue\u001b[0m\u001b[1;33m)\u001b[0m\u001b[1;33m\u001b[0m\u001b[1;33m\u001b[0m\u001b[0m\n\u001b[0m\u001b[0;32m    278\u001b[0m \u001b[1;33m\u001b[0m\u001b[0m\n",
      "\u001b[1;32m~\\AppData\\Local\\Continuum\\Anaconda3\\lib\\site-packages\\pandas\\core\\internals.py\u001b[0m in \u001b[0;36m__init__\u001b[1;34m(self, block, axis, do_integrity_check, fastpath)\u001b[0m\n\u001b[0;32m   4676\u001b[0m         \u001b[1;32mif\u001b[0m \u001b[1;32mnot\u001b[0m \u001b[0misinstance\u001b[0m\u001b[1;33m(\u001b[0m\u001b[0mblock\u001b[0m\u001b[1;33m,\u001b[0m \u001b[0mBlock\u001b[0m\u001b[1;33m)\u001b[0m\u001b[1;33m:\u001b[0m\u001b[1;33m\u001b[0m\u001b[1;33m\u001b[0m\u001b[0m\n\u001b[1;32m-> 4677\u001b[1;33m             \u001b[0mblock\u001b[0m \u001b[1;33m=\u001b[0m \u001b[0mmake_block\u001b[0m\u001b[1;33m(\u001b[0m\u001b[0mblock\u001b[0m\u001b[1;33m,\u001b[0m \u001b[0mplacement\u001b[0m\u001b[1;33m=\u001b[0m\u001b[0mslice\u001b[0m\u001b[1;33m(\u001b[0m\u001b[1;36m0\u001b[0m\u001b[1;33m,\u001b[0m \u001b[0mlen\u001b[0m\u001b[1;33m(\u001b[0m\u001b[0maxis\u001b[0m\u001b[1;33m)\u001b[0m\u001b[1;33m)\u001b[0m\u001b[1;33m,\u001b[0m \u001b[0mndim\u001b[0m\u001b[1;33m=\u001b[0m\u001b[1;36m1\u001b[0m\u001b[1;33m)\u001b[0m\u001b[1;33m\u001b[0m\u001b[1;33m\u001b[0m\u001b[0m\n\u001b[0m\u001b[0;32m   4678\u001b[0m \u001b[1;33m\u001b[0m\u001b[0m\n",
      "\u001b[1;32m~\\AppData\\Local\\Continuum\\Anaconda3\\lib\\site-packages\\pandas\\core\\internals.py\u001b[0m in \u001b[0;36mmake_block\u001b[1;34m(values, placement, klass, ndim, dtype, fastpath)\u001b[0m\n\u001b[0;32m   3204\u001b[0m \u001b[1;33m\u001b[0m\u001b[0m\n\u001b[1;32m-> 3205\u001b[1;33m     \u001b[1;32mreturn\u001b[0m \u001b[0mklass\u001b[0m\u001b[1;33m(\u001b[0m\u001b[0mvalues\u001b[0m\u001b[1;33m,\u001b[0m \u001b[0mndim\u001b[0m\u001b[1;33m=\u001b[0m\u001b[0mndim\u001b[0m\u001b[1;33m,\u001b[0m \u001b[0mplacement\u001b[0m\u001b[1;33m=\u001b[0m\u001b[0mplacement\u001b[0m\u001b[1;33m)\u001b[0m\u001b[1;33m\u001b[0m\u001b[1;33m\u001b[0m\u001b[0m\n\u001b[0m\u001b[0;32m   3206\u001b[0m \u001b[1;33m\u001b[0m\u001b[0m\n",
      "\u001b[1;32m~\\AppData\\Local\\Continuum\\Anaconda3\\lib\\site-packages\\pandas\\core\\internals.py\u001b[0m in \u001b[0;36m__init__\u001b[1;34m(self, values, placement, ndim)\u001b[0m\n\u001b[0;32m   2302\u001b[0m         super(ObjectBlock, self).__init__(values, ndim=ndim,\n\u001b[1;32m-> 2303\u001b[1;33m                                           placement=placement)\n\u001b[0m\u001b[0;32m   2304\u001b[0m \u001b[1;33m\u001b[0m\u001b[0m\n",
      "\u001b[1;32m~\\AppData\\Local\\Continuum\\Anaconda3\\lib\\site-packages\\pandas\\core\\internals.py\u001b[0m in \u001b[0;36m__init__\u001b[1;34m(self, values, placement, ndim)\u001b[0m\n\u001b[0;32m    124\u001b[0m                 \u001b[1;34m'Wrong number of items passed {val}, placement implies '\u001b[0m\u001b[1;33m\u001b[0m\u001b[1;33m\u001b[0m\u001b[0m\n\u001b[1;32m--> 125\u001b[1;33m                 '{mgr}'.format(val=len(self.values), mgr=len(self.mgr_locs)))\n\u001b[0m\u001b[0;32m    126\u001b[0m \u001b[1;33m\u001b[0m\u001b[0m\n",
      "\u001b[1;31mValueError\u001b[0m: Wrong number of items passed 2, placement implies 0",
      "\nDuring handling of the above exception, another exception occurred:\n",
      "\u001b[1;31mValueError\u001b[0m                                Traceback (most recent call last)",
      "\u001b[1;32m<ipython-input-307-701ad5dd619c>\u001b[0m in \u001b[0;36m<module>\u001b[1;34m()\u001b[0m\n\u001b[0;32m      2\u001b[0m     \u001b[0mdf_1\u001b[0m\u001b[1;33m=\u001b[0m\u001b[0mdf\u001b[0m\u001b[1;33m[\u001b[0m\u001b[0mdf\u001b[0m\u001b[1;33m[\u001b[0m\u001b[1;34m'DATE'\u001b[0m\u001b[1;33m]\u001b[0m\u001b[1;33m==\u001b[0m\u001b[0mi\u001b[0m\u001b[1;33m]\u001b[0m\u001b[1;33m\u001b[0m\u001b[1;33m\u001b[0m\u001b[0m\n\u001b[0;32m      3\u001b[0m \u001b[1;33m\u001b[0m\u001b[0m\n\u001b[1;32m----> 4\u001b[1;33m     \u001b[0mdf_1\u001b[0m\u001b[1;33m[\u001b[0m\u001b[1;34m'ts'\u001b[0m\u001b[1;33m]\u001b[0m\u001b[1;33m=\u001b[0m\u001b[0mdf_1\u001b[0m\u001b[1;33m.\u001b[0m\u001b[0mapply\u001b[0m\u001b[1;33m(\u001b[0m\u001b[1;32mlambda\u001b[0m \u001b[0mr\u001b[0m \u001b[1;33m:\u001b[0m \u001b[0mpd\u001b[0m\u001b[1;33m.\u001b[0m\u001b[0mdatetime\u001b[0m\u001b[1;33m.\u001b[0m\u001b[0mcombine\u001b[0m\u001b[1;33m(\u001b[0m\u001b[0mr\u001b[0m\u001b[1;33m[\u001b[0m\u001b[1;34m'DATE'\u001b[0m\u001b[1;33m]\u001b[0m\u001b[1;33m,\u001b[0m\u001b[0mr\u001b[0m\u001b[1;33m[\u001b[0m\u001b[1;34m'TIME'\u001b[0m\u001b[1;33m]\u001b[0m\u001b[1;33m)\u001b[0m\u001b[1;33m,\u001b[0m\u001b[1;36m1\u001b[0m\u001b[1;33m)\u001b[0m\u001b[1;33m\u001b[0m\u001b[1;33m\u001b[0m\u001b[0m\n\u001b[0m\u001b[0;32m      5\u001b[0m \u001b[1;33m\u001b[0m\u001b[0m\n\u001b[0;32m      6\u001b[0m     \u001b[0mdf_1\u001b[0m\u001b[1;33m[\u001b[0m\u001b[1;34m'ts'\u001b[0m\u001b[1;33m]\u001b[0m\u001b[1;33m=\u001b[0m\u001b[0mdf_1\u001b[0m\u001b[1;33m[\u001b[0m\u001b[1;34m'ts'\u001b[0m\u001b[1;33m]\u001b[0m\u001b[1;33m.\u001b[0m\u001b[0mastype\u001b[0m\u001b[1;33m(\u001b[0m\u001b[0mnp\u001b[0m\u001b[1;33m.\u001b[0m\u001b[0mint64\u001b[0m\u001b[1;33m)\u001b[0m\u001b[1;33m\u001b[0m\u001b[1;33m\u001b[0m\u001b[0m\n",
      "\u001b[1;32m~\\AppData\\Local\\Continuum\\Anaconda3\\lib\\site-packages\\pandas\\core\\frame.py\u001b[0m in \u001b[0;36m__setitem__\u001b[1;34m(self, key, value)\u001b[0m\n\u001b[0;32m   3117\u001b[0m         \u001b[1;32melse\u001b[0m\u001b[1;33m:\u001b[0m\u001b[1;33m\u001b[0m\u001b[1;33m\u001b[0m\u001b[0m\n\u001b[0;32m   3118\u001b[0m             \u001b[1;31m# set column\u001b[0m\u001b[1;33m\u001b[0m\u001b[1;33m\u001b[0m\u001b[1;33m\u001b[0m\u001b[0m\n\u001b[1;32m-> 3119\u001b[1;33m             \u001b[0mself\u001b[0m\u001b[1;33m.\u001b[0m\u001b[0m_set_item\u001b[0m\u001b[1;33m(\u001b[0m\u001b[0mkey\u001b[0m\u001b[1;33m,\u001b[0m \u001b[0mvalue\u001b[0m\u001b[1;33m)\u001b[0m\u001b[1;33m\u001b[0m\u001b[1;33m\u001b[0m\u001b[0m\n\u001b[0m\u001b[0;32m   3120\u001b[0m \u001b[1;33m\u001b[0m\u001b[0m\n\u001b[0;32m   3121\u001b[0m     \u001b[1;32mdef\u001b[0m \u001b[0m_setitem_slice\u001b[0m\u001b[1;33m(\u001b[0m\u001b[0mself\u001b[0m\u001b[1;33m,\u001b[0m \u001b[0mkey\u001b[0m\u001b[1;33m,\u001b[0m \u001b[0mvalue\u001b[0m\u001b[1;33m)\u001b[0m\u001b[1;33m:\u001b[0m\u001b[1;33m\u001b[0m\u001b[1;33m\u001b[0m\u001b[0m\n",
      "\u001b[1;32m~\\AppData\\Local\\Continuum\\Anaconda3\\lib\\site-packages\\pandas\\core\\frame.py\u001b[0m in \u001b[0;36m_set_item\u001b[1;34m(self, key, value)\u001b[0m\n\u001b[0;32m   3191\u001b[0m         \"\"\"\n\u001b[0;32m   3192\u001b[0m \u001b[1;33m\u001b[0m\u001b[0m\n\u001b[1;32m-> 3193\u001b[1;33m         \u001b[0mself\u001b[0m\u001b[1;33m.\u001b[0m\u001b[0m_ensure_valid_index\u001b[0m\u001b[1;33m(\u001b[0m\u001b[0mvalue\u001b[0m\u001b[1;33m)\u001b[0m\u001b[1;33m\u001b[0m\u001b[1;33m\u001b[0m\u001b[0m\n\u001b[0m\u001b[0;32m   3194\u001b[0m         \u001b[0mvalue\u001b[0m \u001b[1;33m=\u001b[0m \u001b[0mself\u001b[0m\u001b[1;33m.\u001b[0m\u001b[0m_sanitize_column\u001b[0m\u001b[1;33m(\u001b[0m\u001b[0mkey\u001b[0m\u001b[1;33m,\u001b[0m \u001b[0mvalue\u001b[0m\u001b[1;33m)\u001b[0m\u001b[1;33m\u001b[0m\u001b[1;33m\u001b[0m\u001b[0m\n\u001b[0;32m   3195\u001b[0m         \u001b[0mNDFrame\u001b[0m\u001b[1;33m.\u001b[0m\u001b[0m_set_item\u001b[0m\u001b[1;33m(\u001b[0m\u001b[0mself\u001b[0m\u001b[1;33m,\u001b[0m \u001b[0mkey\u001b[0m\u001b[1;33m,\u001b[0m \u001b[0mvalue\u001b[0m\u001b[1;33m)\u001b[0m\u001b[1;33m\u001b[0m\u001b[1;33m\u001b[0m\u001b[0m\n",
      "\u001b[1;32m~\\AppData\\Local\\Continuum\\Anaconda3\\lib\\site-packages\\pandas\\core\\frame.py\u001b[0m in \u001b[0;36m_ensure_valid_index\u001b[1;34m(self, value)\u001b[0m\n\u001b[0;32m   3173\u001b[0m                 \u001b[0mvalue\u001b[0m \u001b[1;33m=\u001b[0m \u001b[0mSeries\u001b[0m\u001b[1;33m(\u001b[0m\u001b[0mvalue\u001b[0m\u001b[1;33m)\u001b[0m\u001b[1;33m\u001b[0m\u001b[1;33m\u001b[0m\u001b[0m\n\u001b[0;32m   3174\u001b[0m             \u001b[1;32mexcept\u001b[0m\u001b[1;33m:\u001b[0m\u001b[1;33m\u001b[0m\u001b[1;33m\u001b[0m\u001b[0m\n\u001b[1;32m-> 3175\u001b[1;33m                 raise ValueError('Cannot set a frame with no defined index '\n\u001b[0m\u001b[0;32m   3176\u001b[0m                                  \u001b[1;34m'and a value that cannot be converted to a '\u001b[0m\u001b[1;33m\u001b[0m\u001b[1;33m\u001b[0m\u001b[0m\n\u001b[0;32m   3177\u001b[0m                                  'Series')\n",
      "\u001b[1;31mValueError\u001b[0m: Cannot set a frame with no defined index and a value that cannot be converted to a Series"
     ]
    }
   ],
   "source": [
    "for i in interval:\n",
    "    df_1=df[df['DATE']==i]\n",
    "\n",
    "    df_1['ts']=df_1.apply(lambda r : pd.datetime.combine(r['DATE'],r['TIME']),1)\n",
    "\n",
    "    df_1['ts']=df_1['ts'].astype(np.int64)\n",
    "\n",
    "    df_1=df_1.sort_values(['ts'])\n",
    "\n",
    "    training_data=df_1['ts'].values/1000000000  # convert to second\n",
    "\n",
    "    training_data=training_data-training_data[0]+1\n",
    "\n",
    "    training_data=training_data/60      # convert to minite, T=1440\n",
    "    training_data=training_data/10      # convert to 10 minite, T=144\n",
    "    \n",
    "    for i in range(20):                 # delete points at 0\n",
    "        if training_data[0]==training_data[1]:\n",
    "            training_data=np.delete(training_data,1)\n",
    "            \n",
    "    for i in range(1,len(training_data)):  # divide points at same time\n",
    "        for j in range(i):\n",
    "            if training_data[j]==training_data[i]:\n",
    "                training_data[i]+=0.01\n",
    "\n",
    "    training.append(list(training_data))"
   ]
  },
  {
   "cell_type": "code",
   "execution_count": 325,
   "metadata": {},
   "outputs": [],
   "source": [
    "del training[16][:10]"
   ]
  },
  {
   "cell_type": "code",
   "execution_count": 326,
   "metadata": {},
   "outputs": [],
   "source": [
    "T=144"
   ]
  },
  {
   "cell_type": "code",
   "execution_count": null,
   "metadata": {},
   "outputs": [],
   "source": []
  },
  {
   "cell_type": "markdown",
   "metadata": {},
   "source": [
    "## inference"
   ]
  },
  {
   "cell_type": "code",
   "execution_count": 327,
   "metadata": {},
   "outputs": [],
   "source": [
    "def k_sim(x_n,x_m,J,theta1,a_,gamma): # J is the truncated order of k_sim\n",
    "    k_s=0\n",
    "    sigma2=1/theta1\n",
    "    a=1/4/sigma2\n",
    "    b=1/2/sigma2   ## 1/2/l**2\n",
    "    c=np.sqrt(a**2+2*a*b)\n",
    "    A=a+b+c\n",
    "    B=b/A\n",
    "    eigenvalue=[]\n",
    "    eigenvalue_ori=[]\n",
    "    for j in range(J):\n",
    "        e_j_n=1/np.sqrt(np.sqrt(a/c)*2**j*math.factorial(j))*np.exp(-(c-a)*x_n**2)*hermite(j,np.sqrt(2*c)*x_n)\n",
    "        e_j_m=1/np.sqrt(np.sqrt(a/c)*2**j*math.factorial(j))*np.exp(-(c-a)*x_m**2)*hermite(j,np.sqrt(2*c)*x_m)\n",
    "        eta=np.sqrt(2*a/A)*B**j\n",
    "#         eigenvalue_ori.append(eta)\n",
    "        eta_sim=eta/(a_*eta+gamma)\n",
    "#         eigenvalue.append(eta_sim)\n",
    "        k_s+=eta_sim*e_j_n*e_j_m\n",
    "#     return k_s,eigenvalue,eigenvalue_ori\n",
    "    return k_s"
   ]
  },
  {
   "cell_type": "code",
   "execution_count": 328,
   "metadata": {},
   "outputs": [],
   "source": [
    "def loss(alp,K_sim,a_,points_inhomo):\n",
    "    assert len(K_sim)==len(alp)==len(points_inhomo)\n",
    "    N=len(alp)\n",
    "    loss=0\n",
    "    for i in range(N):\n",
    "        loss-=np.log(((K_sim[i].dot(alp))**2)*a_)\n",
    "    loss+=alp.dot(K_sim.dot(alp))\n",
    "    return loss"
   ]
  },
  {
   "cell_type": "code",
   "execution_count": 329,
   "metadata": {},
   "outputs": [],
   "source": [
    "def gradient(alp,K_sim,a_,points_inhomo):\n",
    "    assert len(K_sim)==len(alp)\n",
    "    N=len(alp)\n",
    "    gradient=np.zeros(N)\n",
    "    for i in range(N):\n",
    "        gradient-=2*K_sim[i]/(K_sim[i].dot(alp))\n",
    "    gradient+=2*K_sim.dot(alp)\n",
    "    return gradient"
   ]
  },
  {
   "cell_type": "code",
   "execution_count": 330,
   "metadata": {},
   "outputs": [],
   "source": [
    "def expo_quad_kernel(theta0,theta1,xn,xm):\n",
    "    return theta0*np.exp(-theta1/2*np.sum((xn - xm)**2))"
   ]
  },
  {
   "cell_type": "code",
   "execution_count": 331,
   "metadata": {},
   "outputs": [],
   "source": [
    "def GP_regression(xi,yi,theta0,theta1,noise_var,rang,num_points):\n",
    "    N=len(xi)\n",
    "    cov_K=np.zeros((N,N))\n",
    "    for i in range(N):\n",
    "        for j in range(i,N):\n",
    "            cov_K[i][j]=expo_quad_kernel(theta0,theta1,xi[i],xi[j])\n",
    "            cov_K[j][i]=cov_K[i][j]\n",
    "    min_eig=np.min(np.real(np.linalg.eigvals(cov_K))) # numerical float truncation error refine\n",
    "    while(min_eig<0):\n",
    "        cov_K += -10*min_eig*np.eye(cov_K.shape[0])\n",
    "        min_eig=np.min(np.real(np.linalg.eigvals(cov_K)))\n",
    "    \n",
    "    cov_K_noise=cov_K+np.eye(N)*noise_var\n",
    "    \n",
    "    x1=np.linspace(0,rang,num_points+1)      # prediction points, integer is to make it easy\n",
    "    M=len(x1)-1\n",
    "    mean=np.zeros((1,M))[0]\n",
    "    posterior_cov=np.zeros((M,M))\n",
    "    k_matrix=np.zeros((M,N))\n",
    "    k_matrix_pre=np.zeros((M,M))\n",
    "    for i in range(M):\n",
    "        for j in range(N):\n",
    "            k_matrix[i][j]=expo_quad_kernel(theta0,theta1,x1[i],xi[j])\n",
    "    k_C=np.dot(k_matrix,np.linalg.inv(cov_K_noise))\n",
    "    mean=np.dot(k_C,yi)\n",
    "    for i in range(M):\n",
    "        for j in range(i,M):\n",
    "            k_matrix_pre[i][j]=expo_quad_kernel(theta0,theta1,x1[i],x1[j])\n",
    "            k_matrix_pre[j][i]=k_matrix_pre[i][j]\n",
    "    posterior_cov=k_matrix_pre-np.dot(k_C,k_matrix.T)+np.eye(M)*noise_var\n",
    "    min_eig=np.min(np.real(np.linalg.eigvals(posterior_cov))) # numerical float truncation error refine\n",
    "    while(min_eig<0):\n",
    "        posterior_cov += -10*min_eig*np.eye(posterior_cov.shape[0])\n",
    "        min_eig=np.min(np.real(np.linalg.eigvals(posterior_cov)))\n",
    "    return x1[:num_points],mean, posterior_cov"
   ]
  },
  {
   "cell_type": "code",
   "execution_count": 332,
   "metadata": {},
   "outputs": [],
   "source": [
    "theta0=1\n",
    "theta1=0.01"
   ]
  },
  {
   "cell_type": "code",
   "execution_count": 333,
   "metadata": {},
   "outputs": [],
   "source": [
    "a_=0.012\n",
    "theta1=0.005\n",
    "gamma=0.3"
   ]
  },
  {
   "cell_type": "code",
   "execution_count": 355,
   "metadata": {
    "scrolled": true
   },
   "outputs": [
    {
     "name": "stdout",
     "output_type": "stream",
     "text": [
      "Optimization terminated successfully.    (Exit mode 0)\n",
      "            Current function value: -232.67921236677773\n",
      "            Iterations: 44\n",
      "            Function evaluations: 73\n",
      "            Gradient evaluations: 44\n",
      "Optimization terminated successfully.    (Exit mode 0)\n",
      "            Current function value: -602.9360034304209\n",
      "            Iterations: 47\n",
      "            Function evaluations: 73\n",
      "            Gradient evaluations: 47\n",
      "Optimization terminated successfully.    (Exit mode 0)\n",
      "            Current function value: -490.21909243170967\n",
      "            Iterations: 39\n",
      "            Function evaluations: 61\n",
      "            Gradient evaluations: 39\n",
      "Optimization terminated successfully.    (Exit mode 0)\n",
      "            Current function value: 271.4784020180739\n",
      "            Iterations: 41\n",
      "            Function evaluations: 70\n",
      "            Gradient evaluations: 41\n",
      "Optimization terminated successfully.    (Exit mode 0)\n",
      "            Current function value: 147.23581981251914\n",
      "            Iterations: 55\n",
      "            Function evaluations: 97\n",
      "            Gradient evaluations: 55\n",
      "Optimization terminated successfully.    (Exit mode 0)\n",
      "            Current function value: -214.34562086963592\n",
      "            Iterations: 52\n",
      "            Function evaluations: 94\n",
      "            Gradient evaluations: 52\n",
      "Optimization terminated successfully.    (Exit mode 0)\n",
      "            Current function value: -208.06995370606705\n",
      "            Iterations: 41\n",
      "            Function evaluations: 73\n",
      "            Gradient evaluations: 41\n",
      "Optimization terminated successfully.    (Exit mode 0)\n",
      "            Current function value: -333.61376096122467\n",
      "            Iterations: 42\n",
      "            Function evaluations: 75\n",
      "            Gradient evaluations: 42\n",
      "Optimization terminated successfully.    (Exit mode 0)\n",
      "            Current function value: 226.21172516035944\n",
      "            Iterations: 53\n",
      "            Function evaluations: 94\n",
      "            Gradient evaluations: 53\n",
      "Optimization terminated successfully.    (Exit mode 0)\n",
      "            Current function value: -253.80482578234546\n",
      "            Iterations: 46\n",
      "            Function evaluations: 78\n",
      "            Gradient evaluations: 46\n",
      "Optimization terminated successfully.    (Exit mode 0)\n",
      "            Current function value: -562.0305907560846\n",
      "            Iterations: 43\n",
      "            Function evaluations: 72\n",
      "            Gradient evaluations: 43\n",
      "Optimization terminated successfully.    (Exit mode 0)\n",
      "            Current function value: -141.5635366979967\n",
      "            Iterations: 54\n",
      "            Function evaluations: 93\n",
      "            Gradient evaluations: 54\n"
     ]
    }
   ],
   "source": [
    "intensity_list=[]\n",
    "for s in range(12):\n",
    "    N=len(training[s])\n",
    "    K_sim=np.zeros((N,N))\n",
    "    for i in range(N):\n",
    "        for j in range(i,N):\n",
    "            K_sim[i][j]=k_sim(training[s][i],training[s][j],40,theta1,a_,gamma)\n",
    "            K_sim[j][i]=K_sim[i][j]\n",
    "    init=norm.rvs(0,1,N)\n",
    "    res=optimize.minimize(loss, init, args=(K_sim,a_,training[s]), method='SLSQP', jac=gradient, bounds=[(-100,100)]*N, options={'disp': True})\n",
    "    intensity_pre=np.zeros(N)\n",
    "    for i in range(N):\n",
    "        intensity_pre[i]=a_*(K_sim[i].dot(res.x))**2\n",
    "    xx,intensity_pre_uniform,_=GP_regression(training[s],intensity_pre,theta0,theta1,0.0001,T,100)\n",
    "    intensity_list.append(intensity_pre_uniform)"
   ]
  },
  {
   "cell_type": "code",
   "execution_count": 356,
   "metadata": {},
   "outputs": [],
   "source": [
    "intensity_ave=np.average(intensity_list,axis=0)\n",
    "intensity_ave=np.array([0.0001 if i < 0 else i for i in intensity_ave])"
   ]
  },
  {
   "cell_type": "code",
   "execution_count": 357,
   "metadata": {},
   "outputs": [
    {
     "data": {
      "image/png": "[encoded data removed]",
      "text/plain": [
       "<Figure size 360x216 with 1 Axes>"
      ]
     },
     "metadata": {
      "needs_background": "light"
     },
     "output_type": "display_data"
    }
   ],
   "source": [
    "plt.figure(1,figsize=(5,3))\n",
    "axs=plt.subplot(111)\n",
    "# axs.plot(x,intensity,label='intensity')\n",
    "# axs.plot(training[0],np.zeros(len(training[0])),linestyle='None', marker='|', color='g', markersize=10)\n",
    "# axs.scatter(training[0],intensity_pre,label='dots',s=3)\n",
    "axs.plot(xx,intensity_ave,label='continuous')\n",
    "plt.legend()\n",
    "plt.show()"
   ]
  },
  {
   "cell_type": "code",
   "execution_count": 358,
   "metadata": {},
   "outputs": [
    {
     "data": {
      "text/plain": [
       "652.5439143133738"
      ]
     },
     "execution_count": 358,
     "metadata": {},
     "output_type": "execute_result"
    }
   ],
   "source": [
    "sum(intensity_ave*1.44)"
   ]
  },
  {
   "cell_type": "code",
   "execution_count": 359,
   "metadata": {},
   "outputs": [],
   "source": [
    "def loglikelihood(lamda,points_poisson,T):  ## discrete lamda\n",
    "    N=len(lamda)\n",
    "    M=len(points_poisson)\n",
    "    delta_t=T/N\n",
    "    logL=0\n",
    "    for i in range(M):\n",
    "        logL+=np.log(lamda[int(points_poisson[i]/delta_t)])\n",
    "    logL-=sum(lamda*delta_t)\n",
    "    return logL"
   ]
  },
  {
   "cell_type": "markdown",
   "metadata": {},
   "source": [
    "## 1 training sequence"
   ]
  },
  {
   "cell_type": "code",
   "execution_count": 339,
   "metadata": {},
   "outputs": [],
   "source": [
    "logL_test=[]\n",
    "for i in range(12,17):\n",
    "    logL_test.append(loglikelihood(np.array(intensity_ave),training[i],T))"
   ]
  },
  {
   "cell_type": "code",
   "execution_count": 340,
   "metadata": {},
   "outputs": [
    {
     "data": {
      "text/plain": [
       "277.5363628126262"
      ]
     },
     "execution_count": 340,
     "metadata": {},
     "output_type": "execute_result"
    }
   ],
   "source": [
    "np.average(logL_test)"
   ]
  },
  {
   "cell_type": "markdown",
   "metadata": {},
   "source": [
    "## 5 training sequence"
   ]
  },
  {
   "cell_type": "code",
   "execution_count": 346,
   "metadata": {},
   "outputs": [],
   "source": [
    "logL_test=[]\n",
    "for i in range(12,17):\n",
    "    logL_test.append(loglikelihood(np.array(intensity_ave),training[i],T))"
   ]
  },
  {
   "cell_type": "code",
   "execution_count": 347,
   "metadata": {},
   "outputs": [
    {
     "data": {
      "text/plain": [
       "356.76497972487675"
      ]
     },
     "execution_count": 347,
     "metadata": {},
     "output_type": "execute_result"
    }
   ],
   "source": [
    "np.average(logL_test)"
   ]
  },
  {
   "cell_type": "markdown",
   "metadata": {},
   "source": [
    "## 9 training sequence"
   ]
  },
  {
   "cell_type": "code",
   "execution_count": 353,
   "metadata": {},
   "outputs": [],
   "source": [
    "logL_test=[]\n",
    "for i in range(12,17):\n",
    "    logL_test.append(loglikelihood(np.array(intensity_ave),training[i],T))"
   ]
  },
  {
   "cell_type": "code",
   "execution_count": 354,
   "metadata": {},
   "outputs": [
    {
     "data": {
      "text/plain": [
       "366.1949270012843"
      ]
     },
     "execution_count": 354,
     "metadata": {},
     "output_type": "execute_result"
    }
   ],
   "source": [
    "np.average(logL_test)"
   ]
  },
  {
   "cell_type": "markdown",
   "metadata": {},
   "source": [
    "## 12 training sequence"
   ]
  },
  {
   "cell_type": "code",
   "execution_count": 360,
   "metadata": {},
   "outputs": [],
   "source": [
    "logL_test=[]\n",
    "for i in range(12,17):\n",
    "    logL_test.append(loglikelihood(np.array(intensity_ave),training[i],T))"
   ]
  },
  {
   "cell_type": "code",
   "execution_count": 361,
   "metadata": {},
   "outputs": [
    {
     "data": {
      "text/plain": [
       "349.4695698280506"
      ]
     },
     "execution_count": 361,
     "metadata": {},
     "output_type": "execute_result"
    }
   ],
   "source": [
    "np.average(logL_test)"
   ]
  },
  {
   "cell_type": "code",
   "execution_count": null,
   "metadata": {},
   "outputs": [],
   "source": []
  },
  {
   "cell_type": "code",
   "execution_count": null,
   "metadata": {},
   "outputs": [],
   "source": []
  },
  {
   "cell_type": "code",
   "execution_count": null,
   "metadata": {},
   "outputs": [],
   "source": []
  },
  {
   "cell_type": "code",
   "execution_count": 386,
   "metadata": {},
   "outputs": [],
   "source": [
    "rawdata = pd.read_csv(\"./2016_Green_Taxi_Trip_Data.csv\")"
   ]
  },
  {
   "cell_type": "code",
   "execution_count": 387,
   "metadata": {},
   "outputs": [],
   "source": [
    "date_series=['01/02/2016','01/03/2016','01/04/2016','01/05/2016','01/06/2016','01/07/2016','01/08/2016','01/09/2016',\n",
    "            '01/10/2016','01/11/2016','01/12/2016','01/13/2016','01/14/2016','01/15/2016','01/16/2016',\n",
    "            '01/17/2016','01/18/2016','01/19/2016','01/20/2016','01/21/2016','01/22/2016','01/23/2016',\n",
    "            '01/24/2016','01/25/2016','01/26/2016','01/27/2016','01/28/2016','01/29/2016','01/30/2016','01/31/2016','02/01/2016']"
   ]
  },
  {
   "cell_type": "code",
   "execution_count": 388,
   "metadata": {},
   "outputs": [],
   "source": [
    "def training_data_extraction(N):\n",
    "    training_data=[]\n",
    "    for i in range(N):\n",
    "        df_1=rawdata[(rawdata['lpep_pickup_datetime']<date_series[i+1]) & (rawdata['lpep_pickup_datetime']>date_series[i])]\n",
    "        \n",
    "        origin=pd.to_datetime(date_series[i]).value/10**9/600 # convert to 10 minute\n",
    "\n",
    "        df_1=df_1[df_1['Trip_distance']>15]\n",
    "\n",
    "        df_1=df_1[['lpep_pickup_datetime']]\n",
    "\n",
    "        df_1['lpep_pickup_datetime']=pd.to_datetime(df_1['lpep_pickup_datetime'])\n",
    "\n",
    "        df_1['lpep_pickup_datetime']=df_1['lpep_pickup_datetime'].astype(np.int64)\n",
    "\n",
    "        df_1=df_1.sort_values(['lpep_pickup_datetime'])\n",
    "        training_data_1=df_1['lpep_pickup_datetime'].values/(10**9) # convert to second\n",
    "        training_data_1=training_data_1/600 # convert to 10 minute\n",
    "        training_data_1=training_data_1-origin\n",
    "        training_data_1=np.unique(training_data_1)\n",
    "        training_data.append(training_data_1)\n",
    "    return training_data"
   ]
  },
  {
   "cell_type": "code",
   "execution_count": 389,
   "metadata": {},
   "outputs": [],
   "source": [
    "training=training_data_extraction(10)"
   ]
  },
  {
   "cell_type": "code",
   "execution_count": 390,
   "metadata": {},
   "outputs": [
    {
     "data": {
      "text/plain": [
       "395.2"
      ]
     },
     "execution_count": 390,
     "metadata": {},
     "output_type": "execute_result"
    }
   ],
   "source": [
    "np.average([len(training[i]) for i in range(10)])"
   ]
  },
  {
   "cell_type": "code",
   "execution_count": 391,
   "metadata": {
    "scrolled": true
   },
   "outputs": [
    {
     "name": "stdout",
     "output_type": "stream",
     "text": [
      "Optimization terminated successfully.    (Exit mode 0)\n",
      "            Current function value: 95.04846977607474\n",
      "            Iterations: 44\n",
      "            Function evaluations: 79\n",
      "            Gradient evaluations: 44\n",
      "Optimization terminated successfully.    (Exit mode 0)\n",
      "            Current function value: 114.64540277813433\n",
      "            Iterations: 45\n",
      "            Function evaluations: 77\n",
      "            Gradient evaluations: 45\n",
      "Optimization terminated successfully.    (Exit mode 0)\n",
      "            Current function value: 162.26501522367693\n",
      "            Iterations: 44\n",
      "            Function evaluations: 80\n",
      "            Gradient evaluations: 44\n",
      "Optimization terminated successfully.    (Exit mode 0)\n",
      "            Current function value: 241.2173588556132\n",
      "            Iterations: 56\n",
      "            Function evaluations: 95\n",
      "            Gradient evaluations: 56\n",
      "Optimization terminated successfully.    (Exit mode 0)\n",
      "            Current function value: 95.67908427894304\n",
      "            Iterations: 52\n",
      "            Function evaluations: 91\n",
      "            Gradient evaluations: 52\n"
     ]
    }
   ],
   "source": [
    "intensity_list=[]\n",
    "for s in range(5,10):\n",
    "    N=len(training[s])\n",
    "    K_sim=np.zeros((N,N))\n",
    "    for i in range(N):\n",
    "        for j in range(i,N):\n",
    "            K_sim[i][j]=k_sim(training[s][i],training[s][j],40,theta1,a_,gamma)\n",
    "            K_sim[j][i]=K_sim[i][j]\n",
    "    init=norm.rvs(0,1,N)\n",
    "    res=optimize.minimize(loss, init, args=(K_sim,a_,training[s]), method='SLSQP', jac=gradient, bounds=[(-100,100)]*N, options={'disp': True})\n",
    "    intensity_pre=np.zeros(N)\n",
    "    for i in range(N):\n",
    "        intensity_pre[i]=a_*(K_sim[i].dot(res.x))**2\n",
    "    xx,intensity_pre_uniform,_=GP_regression(training[s],intensity_pre,theta0,theta1,0.0001,T,100)\n",
    "    intensity_list.append(intensity_pre_uniform)"
   ]
  },
  {
   "cell_type": "code",
   "execution_count": 392,
   "metadata": {},
   "outputs": [],
   "source": [
    "intensity_ave=np.average(intensity_list,axis=0)\n",
    "intensity_ave=np.array([0.0001 if i < 0 else i for i in intensity_ave])"
   ]
  },
  {
   "cell_type": "code",
   "execution_count": 393,
   "metadata": {},
   "outputs": [
    {
     "data": {
      "image/png": "[encoded data removed]",
      "text/plain": [
       "<Figure size 360x216 with 1 Axes>"
      ]
     },
     "metadata": {
      "needs_background": "light"
     },
     "output_type": "display_data"
    }
   ],
   "source": [
    "plt.figure(1,figsize=(5,3))\n",
    "axs=plt.subplot(111)\n",
    "# axs.plot(x,intensity,label='intensity')\n",
    "# axs.plot(training[0],np.zeros(len(training[0])),linestyle='None', marker='|', color='g', markersize=10)\n",
    "# axs.scatter(training[0],intensity_pre,label='dots',s=3)\n",
    "axs.plot(xx,intensity_ave,label='continuous')\n",
    "plt.legend()\n",
    "plt.show()"
   ]
  },
  {
   "cell_type": "code",
   "execution_count": 396,
   "metadata": {},
   "outputs": [
    {
     "data": {
      "text/plain": [
       "array([0.96277155, 1.10497925, 1.25163933, 1.40002668, 1.54691506,\n",
       "       1.68871544, 1.82169387, 1.9422589 , 2.04729515, 2.13450733,\n",
       "       2.20273086, 2.2521617 , 2.28446252, 2.30271358, 2.31119473,\n",
       "       2.3150072 , 2.31956762, 2.33002734, 2.35068553, 2.38446994,\n",
       "       2.43255524, 2.49417333, 2.56664683, 2.64564783, 2.72565441,\n",
       "       2.80055105, 2.86430002, 2.91160251, 2.93847058, 2.94264445,\n",
       "       2.92381076, 2.88360404, 2.8254005 , 2.75393777, 2.67481268,\n",
       "       2.59392023, 2.5168997 , 2.44864879, 2.39295568, 2.35228296,\n",
       "       2.32771898, 2.31909325, 2.325234  , 2.34433042, 2.37434992,\n",
       "       2.41345394, 2.46035477, 2.51456227, 2.57648208, 2.647346  ,\n",
       "       2.72897865, 2.82342812, 2.93251063, 3.05733387, 3.19786997,\n",
       "       3.35264378, 3.51858632, 3.69107934, 3.86418853, 4.03105613,\n",
       "       4.18440243, 4.31707452, 4.42258096, 4.49556153, 4.5321588 ,\n",
       "       4.53027799, 4.48973796, 4.41232536, 4.30176409, 4.16360406,\n",
       "       4.00502145, 3.83451138, 3.66145056, 3.49551487, 3.34595776,\n",
       "       3.2207858 , 3.12590353, 3.0643307 , 3.03561332, 3.03554786,\n",
       "       3.05631121, 3.08704016, 3.11483869, 3.12612095, 3.1081349 ,\n",
       "       3.05046956, 2.94633646, 2.79343811, 2.59429021, 2.35594243,\n",
       "       2.08913116, 1.80698223, 1.52344707, 1.25169243, 1.0026642 ,\n",
       "       0.78401298, 0.59950816, 0.44898964, 0.32882641, 0.2327807 ])"
      ]
     },
     "execution_count": 396,
     "metadata": {},
     "output_type": "execute_result"
    }
   ],
   "source": [
    "intensity_ave"
   ]
  },
  {
   "cell_type": "code",
   "execution_count": 395,
   "metadata": {},
   "outputs": [
    {
     "data": {
      "text/plain": [
       "384.6499581824124"
      ]
     },
     "execution_count": 395,
     "metadata": {},
     "output_type": "execute_result"
    }
   ],
   "source": [
    "sum(intensity_ave*1.44)"
   ]
  },
  {
   "cell_type": "markdown",
   "metadata": {},
   "source": [
    "## 1 training sequence"
   ]
  },
  {
   "cell_type": "code",
   "execution_count": 263,
   "metadata": {},
   "outputs": [],
   "source": [
    "logL_test=[]\n",
    "for i in range(5):\n",
    "    logL_test.append(loglikelihood(np.array(intensity_ave),training[i],T))"
   ]
  },
  {
   "cell_type": "code",
   "execution_count": 264,
   "metadata": {},
   "outputs": [
    {
     "data": {
      "text/plain": [
       "-86.45658281540842"
      ]
     },
     "execution_count": 264,
     "metadata": {},
     "output_type": "execute_result"
    }
   ],
   "source": [
    "np.average(logL_test)"
   ]
  },
  {
   "cell_type": "markdown",
   "metadata": {},
   "source": [
    "## 5 training sequence"
   ]
  },
  {
   "cell_type": "code",
   "execution_count": 269,
   "metadata": {},
   "outputs": [],
   "source": [
    "logL_test=[]\n",
    "for i in range(5):\n",
    "    logL_test.append(loglikelihood(np.array(intensity_ave),training[i],T))"
   ]
  },
  {
   "cell_type": "code",
   "execution_count": 270,
   "metadata": {},
   "outputs": [
    {
     "data": {
      "text/plain": [
       "-10.154211656446353"
      ]
     },
     "execution_count": 270,
     "metadata": {},
     "output_type": "execute_result"
    }
   ],
   "source": [
    "np.average(logL_test)"
   ]
  },
  {
   "cell_type": "markdown",
   "metadata": {},
   "source": [
    "## 10 training sequence"
   ]
  },
  {
   "cell_type": "code",
   "execution_count": 275,
   "metadata": {},
   "outputs": [],
   "source": [
    "logL_test=[]\n",
    "for i in range(5):\n",
    "    logL_test.append(loglikelihood(np.array(intensity_ave),training[i],T))"
   ]
  },
  {
   "cell_type": "code",
   "execution_count": 276,
   "metadata": {},
   "outputs": [
    {
     "data": {
      "text/plain": [
       "2.600095473004319"
      ]
     },
     "execution_count": 276,
     "metadata": {},
     "output_type": "execute_result"
    }
   ],
   "source": [
    "np.average(logL_test)"
   ]
  },
  {
   "cell_type": "markdown",
   "metadata": {},
   "source": [
    "## 15 training sequence"
   ]
  },
  {
   "cell_type": "code",
   "execution_count": 281,
   "metadata": {},
   "outputs": [],
   "source": [
    "logL_test=[]\n",
    "for i in range(5):\n",
    "    logL_test.append(loglikelihood(np.array(intensity_ave),training[i],T))"
   ]
  },
  {
   "cell_type": "code",
   "execution_count": 282,
   "metadata": {},
   "outputs": [
    {
     "data": {
      "text/plain": [
       "7.20940406710198"
      ]
     },
     "execution_count": 282,
     "metadata": {},
     "output_type": "execute_result"
    }
   ],
   "source": [
    "np.average(logL_test)"
   ]
  },
  {
   "cell_type": "markdown",
   "metadata": {},
   "source": [
    "## 20 training sequence"
   ]
  },
  {
   "cell_type": "code",
   "execution_count": 293,
   "metadata": {},
   "outputs": [],
   "source": [
    "logL_test=[]\n",
    "for i in range(5):\n",
    "    logL_test.append(loglikelihood(np.array(intensity_ave),training[i],T))"
   ]
  },
  {
   "cell_type": "code",
   "execution_count": 294,
   "metadata": {},
   "outputs": [
    {
     "data": {
      "text/plain": [
       "6.13697218536056"
      ]
     },
     "execution_count": 294,
     "metadata": {},
     "output_type": "execute_result"
    }
   ],
   "source": [
    "np.average(logL_test)"
   ]
  },
  {
   "cell_type": "code",
   "execution_count": null,
   "metadata": {},
   "outputs": [],
   "source": []
  },
  {
   "cell_type": "code",
   "execution_count": 369,
   "metadata": {},
   "outputs": [],
   "source": [
    "def time_rescaling_homopoisson(points_poisson,lamda):\n",
    "    N=len(points_poisson)\n",
    "    points_rescale=[]\n",
    "    for i in range(N):\n",
    "        time_rescale=lamda*points_poisson[i]\n",
    "        points_rescale.append(time_rescale)\n",
    "    return points_rescale"
   ]
  },
  {
   "cell_type": "code",
   "execution_count": 385,
   "metadata": {},
   "outputs": [],
   "source": [
    "def time_rescaling_inhomopoisson(points_poisson, lamda, T):\n",
    "    N=len(points_poisson)\n",
    "    delta_t=T/len(lamda)\n",
    "    points_rescale=[]\n",
    "    for i in range(N):\n",
    "        time_rescale=0\n",
    "        time_rescale+=sum(lamda[:int(points_poisson[i]/delta_t)]*delta_t)\n",
    "        time_rescale+=lamda[int(points_poisson[i]/delta_t)]*delta_t*(points_poisson[i]/delta_t-int(points_poisson[i]/delta_t))\n",
    "        points_rescale.append(time_rescale)\n",
    "    return points_rescale"
   ]
  },
  {
   "cell_type": "code",
   "execution_count": 373,
   "metadata": {},
   "outputs": [],
   "source": [
    "points_rescale_rkhs=time_rescaling_poisson(np.sort(training[1]),np.array(intensity_ave),T)"
   ]
  },
  {
   "cell_type": "code",
   "execution_count": 374,
   "metadata": {},
   "outputs": [],
   "source": [
    "points_rescale_homo=time_rescaling_homopoisson(np.sort(training[1]),len(training[1])/T)"
   ]
  },
  {
   "cell_type": "code",
   "execution_count": 375,
   "metadata": {},
   "outputs": [],
   "source": [
    "points_rescale_rkhs=1-np.exp(-np.array(points_rescale_rkhs)+np.array([points_rescale_rkhs[0]]+points_rescale_rkhs[:-1]))"
   ]
  },
  {
   "cell_type": "code",
   "execution_count": 376,
   "metadata": {},
   "outputs": [],
   "source": [
    "points_rescale_homo=1-np.exp(-np.array(points_rescale_homo)+np.array([points_rescale_homo[0]]+points_rescale_homo[:-1]))"
   ]
  },
  {
   "cell_type": "code",
   "execution_count": 383,
   "metadata": {},
   "outputs": [
    {
     "data": {
      "image/png": "[encoded data removed]",
      "text/plain": [
       "<Figure size 360x360 with 1 Axes>"
      ]
     },
     "metadata": {
      "needs_background": "light"
     },
     "output_type": "display_data"
    }
   ],
   "source": [
    "plt.figure(1,figsize=(5,5))\n",
    "a = np.random.uniform(0,1,len(points_rescale_rkhs))\n",
    "percs = np.linspace(0,100,201)\n",
    "qn_a = np.percentile(a, percs)\n",
    "qn_rkhs = np.percentile(points_rescale_rkhs, percs)\n",
    "qn_homo = np.percentile(points_rescale_homo, percs)\n",
    "\n",
    "plt.plot(qn_a,qn_rkhs, ls='-', marker=\"o\",markersize=3,label='RKHS')\n",
    "plt.plot(qn_a,qn_homo, ls='-', marker=\"o\",markersize=3,label='HOMO')\n",
    "\n",
    "x = np.linspace(qn_a.min(),qn_a.max())\n",
    "plt.plot(x,x, color=\"k\", ls=\"--\")\n",
    "plt.legend()\n",
    "\n",
    "plt.show()"
   ]
  },
  {
   "cell_type": "code",
   "execution_count": null,
   "metadata": {},
   "outputs": [],
   "source": []
  },
  {
   "cell_type": "code",
   "execution_count": null,
   "metadata": {},
   "outputs": [],
   "source": []
  },
  {
   "cell_type": "code",
   "execution_count": 121,
   "metadata": {},
   "outputs": [],
   "source": [
    "k_s,eigenv_s_1,eigenv=k_sim(1,5,10,0.01,1,1)"
   ]
  },
  {
   "cell_type": "code",
   "execution_count": 122,
   "metadata": {},
   "outputs": [],
   "source": [
    "k_s,eigenv_s_2,eigenv=k_sim(1,5,10,0.01,1,0.2)"
   ]
  },
  {
   "cell_type": "code",
   "execution_count": 125,
   "metadata": {},
   "outputs": [],
   "source": [
    "k_s,eigenv_s_3,eigenv=k_sim(1,5,10,0.01,1,5)"
   ]
  },
  {
   "cell_type": "code",
   "execution_count": 127,
   "metadata": {},
   "outputs": [],
   "source": [
    "k_s,eigenv_s_4,eigenv=k_sim(1,5,10,0.01,1,0.1)"
   ]
  },
  {
   "cell_type": "code",
   "execution_count": 123,
   "metadata": {},
   "outputs": [
    {
     "data": {
      "text/plain": [
       "(10, 10)"
      ]
     },
     "execution_count": 123,
     "metadata": {},
     "output_type": "execute_result"
    }
   ],
   "source": [
    "len(eigenv),len(eigenv_s)"
   ]
  },
  {
   "cell_type": "code",
   "execution_count": 129,
   "metadata": {},
   "outputs": [
    {
     "data": {
      "image/png": "[encoded data removed]",
      "text/plain": [
       "<Figure size 360x216 with 1 Axes>"
      ]
     },
     "metadata": {
      "needs_background": "light"
     },
     "output_type": "display_data"
    }
   ],
   "source": [
    "plt.figure(1,figsize=(5,3))\n",
    "axs=plt.subplot(111)\n",
    "axs.plot(range(len(eigenv)),eigenv,'k-',label='eigenvalues')\n",
    "axs.plot(range(len(eigenv_s_1)),eigenv_s_1,'r-',label='a=1,$\\gamma$=1')\n",
    "axs.plot(range(len(eigenv_s_2)),eigenv_s_2,'m-',label='a=1,$\\gamma$=0.2')\n",
    "axs.plot(range(len(eigenv_s_3)),eigenv_s_3,'y-',label='a=1,$\\gamma$=5')\n",
    "axs.plot(range(len(eigenv_s_4)),eigenv_s_4,'b-',label='a=1,$\\gamma$=0.1')\n",
    "plt.xlim(0,len(eigenv))\n",
    "plt.legend()\n",
    "plt.show()"
   ]
  },
  {
   "cell_type": "code",
   "execution_count": 150,
   "metadata": {},
   "outputs": [],
   "source": [
    "k_s_0_0=[expo_quad_kernel(1,0.01,0,xx) for xx in np.linspace(0,50,100)] ## k(0,(0,4))"
   ]
  },
  {
   "cell_type": "code",
   "execution_count": 151,
   "metadata": {},
   "outputs": [],
   "source": [
    "k_s_0_1=[k_sim(0,xx,50,0.01,1,1) for xx in np.linspace(0,50,100)] ## gamma=1"
   ]
  },
  {
   "cell_type": "code",
   "execution_count": 152,
   "metadata": {},
   "outputs": [],
   "source": [
    "k_s_0_2=[k_sim(0,xx,50,0.01,1,0.2) for xx in np.linspace(0,50,100)] ## gamma=0.2"
   ]
  },
  {
   "cell_type": "code",
   "execution_count": 153,
   "metadata": {},
   "outputs": [],
   "source": [
    "k_s_0_3=[k_sim(0,xx,50,0.01,1,5) for xx in np.linspace(0,50,100)] ## gamma=5"
   ]
  },
  {
   "cell_type": "code",
   "execution_count": 154,
   "metadata": {},
   "outputs": [],
   "source": [
    "k_s_0_4=[k_sim(0,xx,50,0.01,1,0.1) for xx in np.linspace(0,50,100)] ## gamma=0.1"
   ]
  },
  {
   "cell_type": "code",
   "execution_count": 155,
   "metadata": {},
   "outputs": [
    {
     "data": {
      "image/png": "[encoded data removed]",
      "text/plain": [
       "<Figure size 360x216 with 1 Axes>"
      ]
     },
     "metadata": {
      "needs_background": "light"
     },
     "output_type": "display_data"
    }
   ],
   "source": [
    "plt.figure(1,figsize=(5,3))\n",
    "axs=plt.subplot(111)\n",
    "axs.plot(np.linspace(0,50,100),k_s_0_0,'k-',label='$k(t,t\\prime)$')\n",
    "axs.plot(np.linspace(0,50,100),k_s_0_1,'r-',label='a=1,$\\gamma$=1')\n",
    "axs.plot(np.linspace(0,50,100),k_s_0_2,'m-',label='a=1,$\\gamma$=0.2')\n",
    "axs.plot(np.linspace(0,50,100),k_s_0_3,'y-',label='a=1,$\\gamma$=5')\n",
    "axs.plot(np.linspace(0,50,100),k_s_0_4,'b-',label='a=1,$\\gamma$=0.1')\n",
    "plt.legend()\n",
    "plt.show()"
   ]
  },
  {
   "cell_type": "code",
   "execution_count": null,
   "metadata": {},
   "outputs": [],
   "source": []
  }
 ],
 "metadata": {
  "kernelspec": {
   "display_name": "Python 3",
   "language": "python",
   "name": "python3"
  },
  "language_info": {
   "codemirror_mode": {
    "name": "ipython",
    "version": 3
   },
   "file_extension": ".py",
   "mimetype": "text/x-python",
   "name": "python",
   "nbconvert_exporter": "python",
   "pygments_lexer": "ipython3",
   "version": "3.6.7"
  }
 },
 "nbformat": 4,
 "nbformat_minor": 2
}
